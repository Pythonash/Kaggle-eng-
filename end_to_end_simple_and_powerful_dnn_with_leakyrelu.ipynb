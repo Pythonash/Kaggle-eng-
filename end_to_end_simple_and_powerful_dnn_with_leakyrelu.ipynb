{
  "cells": [
    {
      "cell_type": "markdown",
      "metadata": {
        "id": "view-in-github",
        "colab_type": "text"
      },
      "source": [
        "<a href=\"https://colab.research.google.com/github/Pythonash/Kaggle-eng-/blob/Brain/end_to_end_simple_and_powerful_dnn_with_leakyrelu.ipynb\" target=\"_parent\"><img src=\"https://colab.research.google.com/assets/colab-badge.svg\" alt=\"Open In Colab\"/></a>"
      ]
    },
    {
      "cell_type": "markdown",
      "id": "4543ed7e",
      "metadata": {
        "papermill": {
          "duration": 0.029029,
          "end_time": "2022-02-17T06:49:44.581804",
          "exception": false,
          "start_time": "2022-02-17T06:49:44.552775",
          "status": "completed"
        },
        "tags": [],
        "id": "4543ed7e"
      },
      "source": [
        "# Welcome to my notebook\n",
        "\n",
        "Hi all, I have uploaded several notebooks for beginners who does not know how to participate in competition.\n",
        "\n",
        "Now, I will show you my end-to-end procedure which contains loading dataset, training model, and submitting the result.\n",
        "\n",
        "Furthermore, it will be helpful to you who want to use neural network with tensorflow and keras.\n",
        "\n",
        "my notebook, version 2, acheived 0.146 score!\n",
        "\n",
        "Here, there are many chances to upgrade the model through handling hyper-parameter so that you can improve your score in leaderboard.\n",
        "\n",
        "If you have any questions, please leave the comments.\n",
        "\n",
        "\n",
        "## **Knowledge can be improved by being shared.**\n",
        "\n",
        "Please upvote!!\n",
        "\n",
        "\n",
        "## [You can learn more skills for handling dataset or neural network.]\n",
        "\n",
        "- [Parallel DNN and CNN network for beginners](https://www.kaggle.com/pythonash/parallel-dnn-and-cnn-network-for-beginners) - **Pawpularity Contest (silver medal)**\n",
        "\n",
        "- [Handling image and csv dataset at the same time](https://www.kaggle.com/pythonash/how-to-use-csv-and-img-at-the-same-time) - **Pawpularity Contest (bronze medal)**\n",
        " \n",
        "- [Image data handling without memory exploded](https://www.kaggle.com/pythonash/how-to-handle-dataset-for-beginners) - **Pawpularity Contest (bronze medal)**\n",
        "\n",
        "- [Data handling & Deep learning](https://www.kaggle.com/pythonash/how-to-handle-raw-dataset-and-analyze-with-dl) - **Titanic competition (best score!!, bronze medal)**\n",
        "\n",
        "- [Deep learning model with SeLU activation function](https://www.kaggle.com/pythonash/selu-activation-function-in-dl) - **Titanic competition (bronze medal)**\n",
        "\n",
        "- [Preparing a completed dataset with proper imputation method](https://www.kaggle.com/pythonash/making-completed-dataset) - **Titanic competition**\n",
        " \n",
        " \n",
        " \n",
        "### [More contents or information]\n",
        "\n",
        "## [Pythonash Github](https://github.com/pythonash)\n",
        "\n",
        "## [Pythonash blog](https://pythonash.github.io/ash)\n",
        "\n",
        "**Let's start!**"
      ]
    },
    {
      "cell_type": "markdown",
      "id": "c3ea6fe8",
      "metadata": {
        "papermill": {
          "duration": 0.02705,
          "end_time": "2022-02-17T06:49:44.636649",
          "exception": false,
          "start_time": "2022-02-17T06:49:44.609599",
          "status": "completed"
        },
        "tags": [],
        "id": "c3ea6fe8"
      },
      "source": [
        "# Contents\n",
        "\n",
        "<a id=\"toc\"></a>\n",
        "- [1. Import Library](#1)\n",
        "- [2. Load dataset](#2)\n",
        "    - [2.1 Dataset](#2.1) \n",
        "- [3. Model ](#3)\n",
        "    - [3.1 KFold strategy](#3.1)\n",
        "- [4. Submit](#4)\n",
        "- [5. Review](#5)"
      ]
    },
    {
      "cell_type": "markdown",
      "id": "6fba894e",
      "metadata": {
        "papermill": {
          "duration": 0.02714,
          "end_time": "2022-02-17T06:49:44.691398",
          "exception": false,
          "start_time": "2022-02-17T06:49:44.664258",
          "status": "completed"
        },
        "tags": [],
        "id": "6fba894e"
      },
      "source": [
        "<a id=\"1\"></a>\n",
        "# Import Library"
      ]
    },
    {
      "cell_type": "code",
      "execution_count": null,
      "id": "ad2ff722",
      "metadata": {
        "execution": {
          "iopub.execute_input": "2022-02-17T06:49:44.756779Z",
          "iopub.status.busy": "2022-02-17T06:49:44.755995Z",
          "iopub.status.idle": "2022-02-17T06:49:49.868767Z",
          "shell.execute_reply": "2022-02-17T06:49:49.867718Z",
          "shell.execute_reply.started": "2022-02-17T04:19:13.574530Z"
        },
        "papermill": {
          "duration": 5.150271,
          "end_time": "2022-02-17T06:49:49.868958",
          "exception": false,
          "start_time": "2022-02-17T06:49:44.718687",
          "status": "completed"
        },
        "tags": [],
        "id": "ad2ff722"
      },
      "outputs": [],
      "source": [
        "import pandas as pd\n",
        "import seaborn as sns\n",
        "import matplotlib.pyplot as plt\n",
        "import numpy as np\n",
        "import tensorflow as tf\n",
        "from sklearn.preprocessing import StandardScaler\n",
        "import ubiquant\n",
        "from sklearn.model_selection import KFold\n",
        "from scipy.stats import pearsonr"
      ]
    },
    {
      "cell_type": "markdown",
      "id": "4bc6042f",
      "metadata": {
        "papermill": {
          "duration": 0.030891,
          "end_time": "2022-02-17T06:49:49.934249",
          "exception": false,
          "start_time": "2022-02-17T06:49:49.903358",
          "status": "completed"
        },
        "tags": [],
        "id": "4bc6042f"
      },
      "source": [
        "<a id=\"2\"></a>\n",
        "# Load dataset\n",
        "\n",
        "As you may know, this competition's dataset (18.55gb) is too large.\n",
        "\n",
        "So, we will use another dataset is converted low memory (about 3.63gb).\n",
        "\n",
        "You can see the description on [ubiquant-parquet](https://www.kaggle.com/c/ubiquant-market-prediction/discussion/301724) and add the data by searching as below:\n",
        "\n",
        "Thank you for sharing!! @Rob Mulla\n",
        "\n",
        "**Click \" + Add data\" on upper right**\n",
        "\n",
        "![스크린샷 2022-02-17 오후 2.21.19.png](attachment:8c78927a-a2bb-4e43-9001-1fc6a446d7df.png)\n",
        "\n",
        "**Next, search \"ubiquant\" and click add**\n",
        "\n",
        "\n",
        "![스크린샷 2022-02-17 오후 2.22.36.png](attachment:3e361b4c-00c2-4587-a5ef-98cc61b8463d.png)\n",
        "\n",
        "After above procedures, load the parquet.\n",
        "\n",
        "see the dataset."
      ]
    },
    {
      "cell_type": "markdown",
      "id": "b312fc7a",
      "metadata": {
        "papermill": {
          "duration": 0.030055,
          "end_time": "2022-02-17T06:49:49.995096",
          "exception": false,
          "start_time": "2022-02-17T06:49:49.965041",
          "status": "completed"
        },
        "tags": [],
        "id": "b312fc7a"
      },
      "source": [
        "<a id=\"2.1\"></a>\n",
        "# Dataset"
      ]
    },
    {
      "cell_type": "code",
      "execution_count": null,
      "id": "ae31463f",
      "metadata": {
        "execution": {
          "iopub.execute_input": "2022-02-17T06:49:50.061236Z",
          "iopub.status.busy": "2022-02-17T06:49:50.060492Z",
          "iopub.status.idle": "2022-02-17T06:50:32.210684Z",
          "shell.execute_reply": "2022-02-17T06:50:32.211353Z",
          "shell.execute_reply.started": "2022-02-17T04:19:17.591999Z"
        },
        "papermill": {
          "duration": 42.185531,
          "end_time": "2022-02-17T06:50:32.211548",
          "exception": false,
          "start_time": "2022-02-17T06:49:50.026017",
          "status": "completed"
        },
        "tags": [],
        "id": "ae31463f",
        "outputId": "3f1502c2-45b9-48a7-e7f2-cc543b28a591"
      },
      "outputs": [
        {
          "data": {
            "text/html": [
              "<div>\n",
              "<style scoped>\n",
              "    .dataframe tbody tr th:only-of-type {\n",
              "        vertical-align: middle;\n",
              "    }\n",
              "\n",
              "    .dataframe tbody tr th {\n",
              "        vertical-align: top;\n",
              "    }\n",
              "\n",
              "    .dataframe thead th {\n",
              "        text-align: right;\n",
              "    }\n",
              "</style>\n",
              "<table border=\"1\" class=\"dataframe\">\n",
              "  <thead>\n",
              "    <tr style=\"text-align: right;\">\n",
              "      <th></th>\n",
              "      <th>row_id</th>\n",
              "      <th>time_id</th>\n",
              "      <th>investment_id</th>\n",
              "      <th>target</th>\n",
              "      <th>f_0</th>\n",
              "      <th>f_1</th>\n",
              "      <th>f_2</th>\n",
              "      <th>f_3</th>\n",
              "      <th>f_4</th>\n",
              "      <th>f_5</th>\n",
              "      <th>...</th>\n",
              "      <th>f_290</th>\n",
              "      <th>f_291</th>\n",
              "      <th>f_292</th>\n",
              "      <th>f_293</th>\n",
              "      <th>f_294</th>\n",
              "      <th>f_295</th>\n",
              "      <th>f_296</th>\n",
              "      <th>f_297</th>\n",
              "      <th>f_298</th>\n",
              "      <th>f_299</th>\n",
              "    </tr>\n",
              "  </thead>\n",
              "  <tbody>\n",
              "    <tr>\n",
              "      <th>0</th>\n",
              "      <td>0_1</td>\n",
              "      <td>0</td>\n",
              "      <td>1</td>\n",
              "      <td>-0.300875</td>\n",
              "      <td>0.932573</td>\n",
              "      <td>0.113691</td>\n",
              "      <td>-0.402206</td>\n",
              "      <td>0.378386</td>\n",
              "      <td>-0.203938</td>\n",
              "      <td>-0.413469</td>\n",
              "      <td>...</td>\n",
              "      <td>0.366028</td>\n",
              "      <td>-1.095620</td>\n",
              "      <td>0.200075</td>\n",
              "      <td>0.819155</td>\n",
              "      <td>0.941183</td>\n",
              "      <td>-0.086764</td>\n",
              "      <td>-1.087009</td>\n",
              "      <td>-1.044826</td>\n",
              "      <td>-0.287605</td>\n",
              "      <td>0.321566</td>\n",
              "    </tr>\n",
              "    <tr>\n",
              "      <th>1</th>\n",
              "      <td>0_2</td>\n",
              "      <td>0</td>\n",
              "      <td>2</td>\n",
              "      <td>-0.231040</td>\n",
              "      <td>0.810802</td>\n",
              "      <td>-0.514115</td>\n",
              "      <td>0.742368</td>\n",
              "      <td>-0.616673</td>\n",
              "      <td>-0.194255</td>\n",
              "      <td>1.771210</td>\n",
              "      <td>...</td>\n",
              "      <td>-0.154193</td>\n",
              "      <td>0.912726</td>\n",
              "      <td>-0.734579</td>\n",
              "      <td>0.819155</td>\n",
              "      <td>0.941183</td>\n",
              "      <td>-0.387617</td>\n",
              "      <td>-1.087009</td>\n",
              "      <td>-0.929529</td>\n",
              "      <td>-0.974060</td>\n",
              "      <td>-0.343624</td>\n",
              "    </tr>\n",
              "    <tr>\n",
              "      <th>2</th>\n",
              "      <td>0_6</td>\n",
              "      <td>0</td>\n",
              "      <td>6</td>\n",
              "      <td>0.568807</td>\n",
              "      <td>0.393974</td>\n",
              "      <td>0.615937</td>\n",
              "      <td>0.567806</td>\n",
              "      <td>-0.607963</td>\n",
              "      <td>0.068883</td>\n",
              "      <td>-1.083155</td>\n",
              "      <td>...</td>\n",
              "      <td>-0.138020</td>\n",
              "      <td>0.912726</td>\n",
              "      <td>-0.551904</td>\n",
              "      <td>-1.220772</td>\n",
              "      <td>-1.060166</td>\n",
              "      <td>-0.219097</td>\n",
              "      <td>-1.087009</td>\n",
              "      <td>-0.612428</td>\n",
              "      <td>-0.113944</td>\n",
              "      <td>0.243608</td>\n",
              "    </tr>\n",
              "    <tr>\n",
              "      <th>3</th>\n",
              "      <td>0_7</td>\n",
              "      <td>0</td>\n",
              "      <td>7</td>\n",
              "      <td>-1.064780</td>\n",
              "      <td>-2.343535</td>\n",
              "      <td>-0.011870</td>\n",
              "      <td>1.874606</td>\n",
              "      <td>-0.606346</td>\n",
              "      <td>-0.586827</td>\n",
              "      <td>-0.815737</td>\n",
              "      <td>...</td>\n",
              "      <td>0.382201</td>\n",
              "      <td>0.912726</td>\n",
              "      <td>-0.266359</td>\n",
              "      <td>-1.220772</td>\n",
              "      <td>0.941183</td>\n",
              "      <td>-0.609113</td>\n",
              "      <td>0.104928</td>\n",
              "      <td>-0.783423</td>\n",
              "      <td>1.151730</td>\n",
              "      <td>-0.773309</td>\n",
              "    </tr>\n",
              "    <tr>\n",
              "      <th>4</th>\n",
              "      <td>0_8</td>\n",
              "      <td>0</td>\n",
              "      <td>8</td>\n",
              "      <td>-0.531940</td>\n",
              "      <td>0.842057</td>\n",
              "      <td>-0.262993</td>\n",
              "      <td>2.330030</td>\n",
              "      <td>-0.583422</td>\n",
              "      <td>-0.618392</td>\n",
              "      <td>-0.742814</td>\n",
              "      <td>...</td>\n",
              "      <td>-0.170365</td>\n",
              "      <td>0.912726</td>\n",
              "      <td>-0.741355</td>\n",
              "      <td>-1.220772</td>\n",
              "      <td>0.941183</td>\n",
              "      <td>-0.588445</td>\n",
              "      <td>0.104928</td>\n",
              "      <td>0.753279</td>\n",
              "      <td>1.345611</td>\n",
              "      <td>-0.737624</td>\n",
              "    </tr>\n",
              "    <tr>\n",
              "      <th>...</th>\n",
              "      <td>...</td>\n",
              "      <td>...</td>\n",
              "      <td>...</td>\n",
              "      <td>...</td>\n",
              "      <td>...</td>\n",
              "      <td>...</td>\n",
              "      <td>...</td>\n",
              "      <td>...</td>\n",
              "      <td>...</td>\n",
              "      <td>...</td>\n",
              "      <td>...</td>\n",
              "      <td>...</td>\n",
              "      <td>...</td>\n",
              "      <td>...</td>\n",
              "      <td>...</td>\n",
              "      <td>...</td>\n",
              "      <td>...</td>\n",
              "      <td>...</td>\n",
              "      <td>...</td>\n",
              "      <td>...</td>\n",
              "      <td>...</td>\n",
              "    </tr>\n",
              "    <tr>\n",
              "      <th>3141405</th>\n",
              "      <td>1219_3768</td>\n",
              "      <td>1219</td>\n",
              "      <td>3768</td>\n",
              "      <td>0.033600</td>\n",
              "      <td>0.093530</td>\n",
              "      <td>-0.720275</td>\n",
              "      <td>-0.345497</td>\n",
              "      <td>-0.438781</td>\n",
              "      <td>-0.166972</td>\n",
              "      <td>-0.437182</td>\n",
              "      <td>...</td>\n",
              "      <td>-0.285908</td>\n",
              "      <td>-1.232434</td>\n",
              "      <td>-0.660579</td>\n",
              "      <td>0.875537</td>\n",
              "      <td>0.421628</td>\n",
              "      <td>-0.428097</td>\n",
              "      <td>-0.075548</td>\n",
              "      <td>-0.533092</td>\n",
              "      <td>-0.193732</td>\n",
              "      <td>-0.581394</td>\n",
              "    </tr>\n",
              "    <tr>\n",
              "      <th>3141406</th>\n",
              "      <td>1219_3769</td>\n",
              "      <td>1219</td>\n",
              "      <td>3769</td>\n",
              "      <td>-0.223264</td>\n",
              "      <td>-1.344935</td>\n",
              "      <td>-0.199987</td>\n",
              "      <td>-0.107702</td>\n",
              "      <td>-0.454677</td>\n",
              "      <td>-0.221914</td>\n",
              "      <td>-0.141174</td>\n",
              "      <td>...</td>\n",
              "      <td>0.184517</td>\n",
              "      <td>-1.232434</td>\n",
              "      <td>-0.670493</td>\n",
              "      <td>0.875537</td>\n",
              "      <td>0.421628</td>\n",
              "      <td>-0.729949</td>\n",
              "      <td>-1.514277</td>\n",
              "      <td>0.013145</td>\n",
              "      <td>-0.890270</td>\n",
              "      <td>-0.589705</td>\n",
              "    </tr>\n",
              "    <tr>\n",
              "      <th>3141407</th>\n",
              "      <td>1219_3770</td>\n",
              "      <td>1219</td>\n",
              "      <td>3770</td>\n",
              "      <td>-0.559415</td>\n",
              "      <td>0.979489</td>\n",
              "      <td>-1.110491</td>\n",
              "      <td>1.006980</td>\n",
              "      <td>-0.467307</td>\n",
              "      <td>-0.159549</td>\n",
              "      <td>1.355671</td>\n",
              "      <td>...</td>\n",
              "      <td>-0.756332</td>\n",
              "      <td>-1.232434</td>\n",
              "      <td>0.820784</td>\n",
              "      <td>-1.142157</td>\n",
              "      <td>0.421628</td>\n",
              "      <td>-0.363329</td>\n",
              "      <td>1.363181</td>\n",
              "      <td>-0.079106</td>\n",
              "      <td>-1.580124</td>\n",
              "      <td>-0.297625</td>\n",
              "    </tr>\n",
              "    <tr>\n",
              "      <th>3141408</th>\n",
              "      <td>1219_3772</td>\n",
              "      <td>1219</td>\n",
              "      <td>3772</td>\n",
              "      <td>0.009599</td>\n",
              "      <td>-2.565332</td>\n",
              "      <td>0.320301</td>\n",
              "      <td>0.076600</td>\n",
              "      <td>1.380182</td>\n",
              "      <td>-0.155366</td>\n",
              "      <td>-0.689000</td>\n",
              "      <td>...</td>\n",
              "      <td>-0.756332</td>\n",
              "      <td>-1.232434</td>\n",
              "      <td>0.133074</td>\n",
              "      <td>-1.142157</td>\n",
              "      <td>0.421628</td>\n",
              "      <td>-0.375288</td>\n",
              "      <td>-1.514277</td>\n",
              "      <td>-0.973762</td>\n",
              "      <td>0.608647</td>\n",
              "      <td>-0.372040</td>\n",
              "    </tr>\n",
              "    <tr>\n",
              "      <th>3141409</th>\n",
              "      <td>1219_3773</td>\n",
              "      <td>1219</td>\n",
              "      <td>3773</td>\n",
              "      <td>1.212112</td>\n",
              "      <td>-0.089557</td>\n",
              "      <td>0.190229</td>\n",
              "      <td>-0.548256</td>\n",
              "      <td>0.151205</td>\n",
              "      <td>0.079773</td>\n",
              "      <td>0.447962</td>\n",
              "      <td>...</td>\n",
              "      <td>-0.317095</td>\n",
              "      <td>0.811402</td>\n",
              "      <td>3.271590</td>\n",
              "      <td>0.875537</td>\n",
              "      <td>0.421628</td>\n",
              "      <td>-0.170709</td>\n",
              "      <td>1.363181</td>\n",
              "      <td>-0.563314</td>\n",
              "      <td>0.669586</td>\n",
              "      <td>0.456400</td>\n",
              "    </tr>\n",
              "  </tbody>\n",
              "</table>\n",
              "<p>3141410 rows × 304 columns</p>\n",
              "</div>"
            ],
            "text/plain": [
              "            row_id  time_id  investment_id    target       f_0       f_1  \\\n",
              "0              0_1        0              1 -0.300875  0.932573  0.113691   \n",
              "1              0_2        0              2 -0.231040  0.810802 -0.514115   \n",
              "2              0_6        0              6  0.568807  0.393974  0.615937   \n",
              "3              0_7        0              7 -1.064780 -2.343535 -0.011870   \n",
              "4              0_8        0              8 -0.531940  0.842057 -0.262993   \n",
              "...            ...      ...            ...       ...       ...       ...   \n",
              "3141405  1219_3768     1219           3768  0.033600  0.093530 -0.720275   \n",
              "3141406  1219_3769     1219           3769 -0.223264 -1.344935 -0.199987   \n",
              "3141407  1219_3770     1219           3770 -0.559415  0.979489 -1.110491   \n",
              "3141408  1219_3772     1219           3772  0.009599 -2.565332  0.320301   \n",
              "3141409  1219_3773     1219           3773  1.212112 -0.089557  0.190229   \n",
              "\n",
              "              f_2       f_3       f_4       f_5  ...     f_290     f_291  \\\n",
              "0       -0.402206  0.378386 -0.203938 -0.413469  ...  0.366028 -1.095620   \n",
              "1        0.742368 -0.616673 -0.194255  1.771210  ... -0.154193  0.912726   \n",
              "2        0.567806 -0.607963  0.068883 -1.083155  ... -0.138020  0.912726   \n",
              "3        1.874606 -0.606346 -0.586827 -0.815737  ...  0.382201  0.912726   \n",
              "4        2.330030 -0.583422 -0.618392 -0.742814  ... -0.170365  0.912726   \n",
              "...           ...       ...       ...       ...  ...       ...       ...   \n",
              "3141405 -0.345497 -0.438781 -0.166972 -0.437182  ... -0.285908 -1.232434   \n",
              "3141406 -0.107702 -0.454677 -0.221914 -0.141174  ...  0.184517 -1.232434   \n",
              "3141407  1.006980 -0.467307 -0.159549  1.355671  ... -0.756332 -1.232434   \n",
              "3141408  0.076600  1.380182 -0.155366 -0.689000  ... -0.756332 -1.232434   \n",
              "3141409 -0.548256  0.151205  0.079773  0.447962  ... -0.317095  0.811402   \n",
              "\n",
              "            f_292     f_293     f_294     f_295     f_296     f_297     f_298  \\\n",
              "0        0.200075  0.819155  0.941183 -0.086764 -1.087009 -1.044826 -0.287605   \n",
              "1       -0.734579  0.819155  0.941183 -0.387617 -1.087009 -0.929529 -0.974060   \n",
              "2       -0.551904 -1.220772 -1.060166 -0.219097 -1.087009 -0.612428 -0.113944   \n",
              "3       -0.266359 -1.220772  0.941183 -0.609113  0.104928 -0.783423  1.151730   \n",
              "4       -0.741355 -1.220772  0.941183 -0.588445  0.104928  0.753279  1.345611   \n",
              "...           ...       ...       ...       ...       ...       ...       ...   \n",
              "3141405 -0.660579  0.875537  0.421628 -0.428097 -0.075548 -0.533092 -0.193732   \n",
              "3141406 -0.670493  0.875537  0.421628 -0.729949 -1.514277  0.013145 -0.890270   \n",
              "3141407  0.820784 -1.142157  0.421628 -0.363329  1.363181 -0.079106 -1.580124   \n",
              "3141408  0.133074 -1.142157  0.421628 -0.375288 -1.514277 -0.973762  0.608647   \n",
              "3141409  3.271590  0.875537  0.421628 -0.170709  1.363181 -0.563314  0.669586   \n",
              "\n",
              "            f_299  \n",
              "0        0.321566  \n",
              "1       -0.343624  \n",
              "2        0.243608  \n",
              "3       -0.773309  \n",
              "4       -0.737624  \n",
              "...           ...  \n",
              "3141405 -0.581394  \n",
              "3141406 -0.589705  \n",
              "3141407 -0.297625  \n",
              "3141408 -0.372040  \n",
              "3141409  0.456400  \n",
              "\n",
              "[3141410 rows x 304 columns]"
            ]
          },
          "execution_count": 2,
          "metadata": {},
          "output_type": "execute_result"
        }
      ],
      "source": [
        "df = pd.read_parquet('../input/ubiquant-parquet/train_low_mem.parquet')\n",
        "df"
      ]
    },
    {
      "cell_type": "markdown",
      "id": "cacb6a59",
      "metadata": {
        "papermill": {
          "duration": 0.045775,
          "end_time": "2022-02-17T06:50:32.344770",
          "exception": false,
          "start_time": "2022-02-17T06:50:32.298995",
          "status": "completed"
        },
        "tags": [],
        "id": "cacb6a59"
      },
      "source": [
        "## There is no missing value."
      ]
    },
    {
      "cell_type": "code",
      "execution_count": null,
      "id": "af2183f1",
      "metadata": {
        "execution": {
          "iopub.execute_input": "2022-02-17T06:50:32.723058Z",
          "iopub.status.busy": "2022-02-17T06:50:32.722116Z",
          "iopub.status.idle": "2022-02-17T06:50:34.517717Z",
          "shell.execute_reply": "2022-02-17T06:50:34.518254Z",
          "shell.execute_reply.started": "2022-02-17T04:20:01.094844Z"
        },
        "papermill": {
          "duration": 2.126468,
          "end_time": "2022-02-17T06:50:34.518416",
          "exception": false,
          "start_time": "2022-02-17T06:50:32.391948",
          "status": "completed"
        },
        "tags": [],
        "id": "af2183f1",
        "outputId": "cbb193e7-1d66-4567-b504-b5233cd469f6"
      },
      "outputs": [
        {
          "data": {
            "text/plain": [
              "0"
            ]
          },
          "execution_count": 3,
          "metadata": {},
          "output_type": "execute_result"
        }
      ],
      "source": [
        "df.isnull().sum().sum()"
      ]
    },
    {
      "cell_type": "markdown",
      "id": "75b16a88",
      "metadata": {
        "papermill": {
          "duration": 0.029828,
          "end_time": "2022-02-17T06:50:34.577195",
          "exception": false,
          "start_time": "2022-02-17T06:50:34.547367",
          "status": "completed"
        },
        "tags": [],
        "id": "75b16a88"
      },
      "source": [
        "## What is the shape of submission??"
      ]
    },
    {
      "cell_type": "code",
      "execution_count": null,
      "id": "4aab6403",
      "metadata": {
        "execution": {
          "iopub.execute_input": "2022-02-17T06:50:34.638599Z",
          "iopub.status.busy": "2022-02-17T06:50:34.638109Z",
          "iopub.status.idle": "2022-02-17T06:50:34.659846Z",
          "shell.execute_reply": "2022-02-17T06:50:34.659107Z",
          "shell.execute_reply.started": "2022-02-17T04:20:03.274256Z"
        },
        "papermill": {
          "duration": 0.054175,
          "end_time": "2022-02-17T06:50:34.659955",
          "exception": false,
          "start_time": "2022-02-17T06:50:34.605780",
          "status": "completed"
        },
        "tags": [],
        "id": "4aab6403",
        "outputId": "1c8553aa-ab3e-40e9-c64e-ca0430bc8d45"
      },
      "outputs": [
        {
          "data": {
            "text/html": [
              "<div>\n",
              "<style scoped>\n",
              "    .dataframe tbody tr th:only-of-type {\n",
              "        vertical-align: middle;\n",
              "    }\n",
              "\n",
              "    .dataframe tbody tr th {\n",
              "        vertical-align: top;\n",
              "    }\n",
              "\n",
              "    .dataframe thead th {\n",
              "        text-align: right;\n",
              "    }\n",
              "</style>\n",
              "<table border=\"1\" class=\"dataframe\">\n",
              "  <thead>\n",
              "    <tr style=\"text-align: right;\">\n",
              "      <th></th>\n",
              "      <th>row_id</th>\n",
              "      <th>time_id</th>\n",
              "      <th>target</th>\n",
              "    </tr>\n",
              "  </thead>\n",
              "  <tbody>\n",
              "    <tr>\n",
              "      <th>0</th>\n",
              "      <td>1220_1</td>\n",
              "      <td>1220</td>\n",
              "      <td>0</td>\n",
              "    </tr>\n",
              "    <tr>\n",
              "      <th>1</th>\n",
              "      <td>1220_2</td>\n",
              "      <td>1220</td>\n",
              "      <td>0</td>\n",
              "    </tr>\n",
              "    <tr>\n",
              "      <th>2</th>\n",
              "      <td>1221_0</td>\n",
              "      <td>1221</td>\n",
              "      <td>0</td>\n",
              "    </tr>\n",
              "    <tr>\n",
              "      <th>3</th>\n",
              "      <td>1221_1</td>\n",
              "      <td>1221</td>\n",
              "      <td>0</td>\n",
              "    </tr>\n",
              "    <tr>\n",
              "      <th>4</th>\n",
              "      <td>1221_2</td>\n",
              "      <td>1221</td>\n",
              "      <td>0</td>\n",
              "    </tr>\n",
              "    <tr>\n",
              "      <th>5</th>\n",
              "      <td>1222_0</td>\n",
              "      <td>1222</td>\n",
              "      <td>0</td>\n",
              "    </tr>\n",
              "    <tr>\n",
              "      <th>6</th>\n",
              "      <td>1222_1</td>\n",
              "      <td>1222</td>\n",
              "      <td>0</td>\n",
              "    </tr>\n",
              "    <tr>\n",
              "      <th>7</th>\n",
              "      <td>1222_2</td>\n",
              "      <td>1222</td>\n",
              "      <td>0</td>\n",
              "    </tr>\n",
              "    <tr>\n",
              "      <th>8</th>\n",
              "      <td>1223_0</td>\n",
              "      <td>1223</td>\n",
              "      <td>0</td>\n",
              "    </tr>\n",
              "  </tbody>\n",
              "</table>\n",
              "</div>"
            ],
            "text/plain": [
              "   row_id  time_id  target\n",
              "0  1220_1     1220       0\n",
              "1  1220_2     1220       0\n",
              "2  1221_0     1221       0\n",
              "3  1221_1     1221       0\n",
              "4  1221_2     1221       0\n",
              "5  1222_0     1222       0\n",
              "6  1222_1     1222       0\n",
              "7  1222_2     1222       0\n",
              "8  1223_0     1223       0"
            ]
          },
          "execution_count": 4,
          "metadata": {},
          "output_type": "execute_result"
        }
      ],
      "source": [
        "pd.read_parquet('../input/ubiquant-parquet/example_sample_submission.parquet')"
      ]
    },
    {
      "cell_type": "markdown",
      "id": "f9b22fa3",
      "metadata": {
        "papermill": {
          "duration": 0.028833,
          "end_time": "2022-02-17T06:50:34.718214",
          "exception": false,
          "start_time": "2022-02-17T06:50:34.689381",
          "status": "completed"
        },
        "tags": [],
        "id": "f9b22fa3"
      },
      "source": [
        "## I will use all features\n",
        "\n",
        "In fact, I have already done the EDA and some statistical approaches.\n",
        "\n",
        "But I identified that the result would be good when all the data was used.\n",
        "\n",
        "Of course, although my approach might not be perfect, you will get robust score by tuning the hyper-parameter."
      ]
    },
    {
      "cell_type": "markdown",
      "id": "d0855dd0",
      "metadata": {
        "papermill": {
          "duration": 0.028707,
          "end_time": "2022-02-17T06:50:34.775660",
          "exception": false,
          "start_time": "2022-02-17T06:50:34.746953",
          "status": "completed"
        },
        "tags": [],
        "id": "d0855dd0"
      },
      "source": [
        "## Data columns"
      ]
    },
    {
      "cell_type": "code",
      "execution_count": null,
      "id": "ba988170",
      "metadata": {
        "execution": {
          "iopub.execute_input": "2022-02-17T06:50:34.839634Z",
          "iopub.status.busy": "2022-02-17T06:50:34.838984Z",
          "iopub.status.idle": "2022-02-17T06:50:34.841667Z",
          "shell.execute_reply": "2022-02-17T06:50:34.842199Z",
          "shell.execute_reply.started": "2022-02-17T04:20:03.298494Z"
        },
        "papermill": {
          "duration": 0.037416,
          "end_time": "2022-02-17T06:50:34.842349",
          "exception": false,
          "start_time": "2022-02-17T06:50:34.804933",
          "status": "completed"
        },
        "tags": [],
        "id": "ba988170",
        "outputId": "be041352-5364-437e-e95e-a4e55fc27693"
      },
      "outputs": [
        {
          "data": {
            "text/plain": [
              "Index(['row_id', 'time_id', 'investment_id', 'target', 'f_0', 'f_1', 'f_2',\n",
              "       'f_3', 'f_4', 'f_5',\n",
              "       ...\n",
              "       'f_290', 'f_291', 'f_292', 'f_293', 'f_294', 'f_295', 'f_296', 'f_297',\n",
              "       'f_298', 'f_299'],\n",
              "      dtype='object', length=304)"
            ]
          },
          "execution_count": 5,
          "metadata": {},
          "output_type": "execute_result"
        }
      ],
      "source": [
        "df.columns"
      ]
    },
    {
      "cell_type": "markdown",
      "id": "e8f39bfe",
      "metadata": {
        "papermill": {
          "duration": 0.029884,
          "end_time": "2022-02-17T06:50:34.901369",
          "exception": false,
          "start_time": "2022-02-17T06:50:34.871485",
          "status": "completed"
        },
        "tags": [],
        "id": "e8f39bfe"
      },
      "source": [
        "## Use the features, f_0 ~ f_299."
      ]
    },
    {
      "cell_type": "code",
      "execution_count": null,
      "id": "2152f7bb",
      "metadata": {
        "execution": {
          "iopub.execute_input": "2022-02-17T06:50:36.986596Z",
          "iopub.status.busy": "2022-02-17T06:50:36.985509Z",
          "iopub.status.idle": "2022-02-17T06:50:36.991472Z",
          "shell.execute_reply": "2022-02-17T06:50:36.991017Z",
          "shell.execute_reply.started": "2022-02-17T04:20:03.308212Z"
        },
        "papermill": {
          "duration": 2.06051,
          "end_time": "2022-02-17T06:50:36.991602",
          "exception": false,
          "start_time": "2022-02-17T06:50:34.931092",
          "status": "completed"
        },
        "tags": [],
        "id": "2152f7bb",
        "outputId": "47881da0-79cf-473d-fde4-5f7cfd2007e8"
      },
      "outputs": [
        {
          "data": {
            "text/plain": [
              "Index(['f_0', 'f_1', 'f_2', 'f_3', 'f_4', 'f_5', 'f_6', 'f_7', 'f_8', 'f_9',\n",
              "       ...\n",
              "       'f_290', 'f_291', 'f_292', 'f_293', 'f_294', 'f_295', 'f_296', 'f_297',\n",
              "       'f_298', 'f_299'],\n",
              "      dtype='object', length=300)"
            ]
          },
          "execution_count": 6,
          "metadata": {},
          "output_type": "execute_result"
        }
      ],
      "source": [
        "f_col = df.drop(['row_id','time_id','investment_id','target'],axis=1).columns\n",
        "f_col"
      ]
    },
    {
      "cell_type": "markdown",
      "id": "2e9db4ff",
      "metadata": {
        "papermill": {
          "duration": 0.029803,
          "end_time": "2022-02-17T06:50:37.052109",
          "exception": false,
          "start_time": "2022-02-17T06:50:37.022306",
          "status": "completed"
        },
        "tags": [],
        "id": "2e9db4ff"
      },
      "source": [
        "## We will convert \"investment_id\" column with StandardScaler in sklearn.\n",
        "\n",
        "Since \"f_#\" columns are similar to standard normal distribution, \"investment_id\" column will be converted for efficient training.\n",
        "\n",
        "To apply the same criteria at test dataset, make the scaler and use it later."
      ]
    },
    {
      "cell_type": "code",
      "execution_count": null,
      "id": "19c589fb",
      "metadata": {
        "execution": {
          "iopub.execute_input": "2022-02-17T06:50:37.117726Z",
          "iopub.status.busy": "2022-02-17T06:50:37.116807Z",
          "iopub.status.idle": "2022-02-17T06:50:37.176314Z",
          "shell.execute_reply": "2022-02-17T06:50:37.176717Z",
          "shell.execute_reply.started": "2022-02-17T04:20:05.143267Z"
        },
        "papermill": {
          "duration": 0.095234,
          "end_time": "2022-02-17T06:50:37.176892",
          "exception": false,
          "start_time": "2022-02-17T06:50:37.081658",
          "status": "completed"
        },
        "tags": [],
        "id": "19c589fb",
        "outputId": "2788b918-1938-49cf-ff4f-1f0acd96a8eb"
      },
      "outputs": [
        {
          "data": {
            "text/plain": [
              "StandardScaler()"
            ]
          },
          "execution_count": 7,
          "metadata": {},
          "output_type": "execute_result"
        }
      ],
      "source": [
        "scaler = StandardScaler()\n",
        "scaler.fit(pd.DataFrame(df['investment_id']))"
      ]
    },
    {
      "cell_type": "markdown",
      "id": "1852eb30",
      "metadata": {
        "papermill": {
          "duration": 0.031903,
          "end_time": "2022-02-17T06:50:37.240122",
          "exception": false,
          "start_time": "2022-02-17T06:50:37.208219",
          "status": "completed"
        },
        "tags": [],
        "id": "1852eb30"
      },
      "source": [
        "## Make dataset function.\n",
        "\n",
        "The test dataset will be given in last code cell by specific API.\n",
        "\n",
        "So, we will use \"make dataset function\" efficiently."
      ]
    },
    {
      "cell_type": "code",
      "execution_count": null,
      "id": "81baa1f7",
      "metadata": {
        "execution": {
          "iopub.execute_input": "2022-02-17T06:50:37.306982Z",
          "iopub.status.busy": "2022-02-17T06:50:37.306172Z",
          "iopub.status.idle": "2022-02-17T06:50:37.308205Z",
          "shell.execute_reply": "2022-02-17T06:50:37.308577Z",
          "shell.execute_reply.started": "2022-02-17T04:20:05.216575Z"
        },
        "papermill": {
          "duration": 0.037193,
          "end_time": "2022-02-17T06:50:37.308703",
          "exception": false,
          "start_time": "2022-02-17T06:50:37.271510",
          "status": "completed"
        },
        "tags": [],
        "id": "81baa1f7"
      },
      "outputs": [],
      "source": [
        "def make_dataset(df):\n",
        "    inv_df = df['investment_id']\n",
        "    f_df = df[f_col]\n",
        "    scaled_investment_id = scaler.transform(pd.DataFrame(inv_df))\n",
        "    df['investment_id'] = scaled_investment_id\n",
        "    data_x = pd.concat([df['investment_id'], f_df], axis=1)\n",
        "    return data_x"
      ]
    },
    {
      "cell_type": "markdown",
      "id": "0484c08c",
      "metadata": {
        "papermill": {
          "duration": 0.029871,
          "end_time": "2022-02-17T06:50:37.368460",
          "exception": false,
          "start_time": "2022-02-17T06:50:37.338589",
          "status": "completed"
        },
        "tags": [],
        "id": "0484c08c"
      },
      "source": [
        "## Change the data type\n",
        "\n",
        "Notebook memory has limit which is too small to use raw data.\n",
        "\n",
        "So, change the data type to \"float16\".\n",
        "\n",
        "And divide the dataset into variables for input and output."
      ]
    },
    {
      "cell_type": "markdown",
      "id": "02b2ed68",
      "metadata": {
        "papermill": {
          "duration": 0.030068,
          "end_time": "2022-02-17T06:50:37.428596",
          "exception": false,
          "start_time": "2022-02-17T06:50:37.398528",
          "status": "completed"
        },
        "tags": [],
        "id": "02b2ed68"
      },
      "source": [
        "## Input variables"
      ]
    },
    {
      "cell_type": "code",
      "execution_count": null,
      "id": "f99827f5",
      "metadata": {
        "execution": {
          "iopub.execute_input": "2022-02-17T06:50:38.225509Z",
          "iopub.status.busy": "2022-02-17T06:50:38.224652Z",
          "iopub.status.idle": "2022-02-17T06:50:49.843650Z",
          "shell.execute_reply": "2022-02-17T06:50:49.844199Z",
          "shell.execute_reply.started": "2022-02-17T04:20:05.227568Z"
        },
        "papermill": {
          "duration": 12.385962,
          "end_time": "2022-02-17T06:50:49.844364",
          "exception": false,
          "start_time": "2022-02-17T06:50:37.458402",
          "status": "completed"
        },
        "tags": [],
        "id": "f99827f5",
        "outputId": "1fd89661-2f89-44de-ea42-9a6397ca1e66"
      },
      "outputs": [
        {
          "data": {
            "text/html": [
              "<div>\n",
              "<style scoped>\n",
              "    .dataframe tbody tr th:only-of-type {\n",
              "        vertical-align: middle;\n",
              "    }\n",
              "\n",
              "    .dataframe tbody tr th {\n",
              "        vertical-align: top;\n",
              "    }\n",
              "\n",
              "    .dataframe thead th {\n",
              "        text-align: right;\n",
              "    }\n",
              "</style>\n",
              "<table border=\"1\" class=\"dataframe\">\n",
              "  <thead>\n",
              "    <tr style=\"text-align: right;\">\n",
              "      <th></th>\n",
              "      <th>investment_id</th>\n",
              "      <th>f_0</th>\n",
              "      <th>f_1</th>\n",
              "      <th>f_2</th>\n",
              "      <th>f_3</th>\n",
              "      <th>f_4</th>\n",
              "      <th>f_5</th>\n",
              "      <th>f_6</th>\n",
              "      <th>f_7</th>\n",
              "      <th>f_8</th>\n",
              "      <th>...</th>\n",
              "      <th>f_290</th>\n",
              "      <th>f_291</th>\n",
              "      <th>f_292</th>\n",
              "      <th>f_293</th>\n",
              "      <th>f_294</th>\n",
              "      <th>f_295</th>\n",
              "      <th>f_296</th>\n",
              "      <th>f_297</th>\n",
              "      <th>f_298</th>\n",
              "      <th>f_299</th>\n",
              "    </tr>\n",
              "  </thead>\n",
              "  <tbody>\n",
              "    <tr>\n",
              "      <th>0</th>\n",
              "      <td>-1.738281</td>\n",
              "      <td>0.932617</td>\n",
              "      <td>0.113708</td>\n",
              "      <td>-0.402100</td>\n",
              "      <td>0.378418</td>\n",
              "      <td>-0.203979</td>\n",
              "      <td>-0.413574</td>\n",
              "      <td>0.965820</td>\n",
              "      <td>1.230469</td>\n",
              "      <td>0.114807</td>\n",
              "      <td>...</td>\n",
              "      <td>0.365967</td>\n",
              "      <td>-1.095703</td>\n",
              "      <td>0.200073</td>\n",
              "      <td>0.819336</td>\n",
              "      <td>0.941406</td>\n",
              "      <td>-0.086792</td>\n",
              "      <td>-1.086914</td>\n",
              "      <td>-1.044922</td>\n",
              "      <td>-0.287598</td>\n",
              "      <td>0.321533</td>\n",
              "    </tr>\n",
              "    <tr>\n",
              "      <th>1</th>\n",
              "      <td>-1.737305</td>\n",
              "      <td>0.811035</td>\n",
              "      <td>-0.514160</td>\n",
              "      <td>0.742188</td>\n",
              "      <td>-0.616699</td>\n",
              "      <td>-0.194214</td>\n",
              "      <td>1.771484</td>\n",
              "      <td>1.427734</td>\n",
              "      <td>1.133789</td>\n",
              "      <td>0.114807</td>\n",
              "      <td>...</td>\n",
              "      <td>-0.154175</td>\n",
              "      <td>0.912598</td>\n",
              "      <td>-0.734375</td>\n",
              "      <td>0.819336</td>\n",
              "      <td>0.941406</td>\n",
              "      <td>-0.387695</td>\n",
              "      <td>-1.086914</td>\n",
              "      <td>-0.929688</td>\n",
              "      <td>-0.974121</td>\n",
              "      <td>-0.343506</td>\n",
              "    </tr>\n",
              "    <tr>\n",
              "      <th>2</th>\n",
              "      <td>-1.734375</td>\n",
              "      <td>0.394043</td>\n",
              "      <td>0.615723</td>\n",
              "      <td>0.567871</td>\n",
              "      <td>-0.607910</td>\n",
              "      <td>0.068909</td>\n",
              "      <td>-1.083008</td>\n",
              "      <td>0.979492</td>\n",
              "      <td>-1.125977</td>\n",
              "      <td>0.114807</td>\n",
              "      <td>...</td>\n",
              "      <td>-0.138062</td>\n",
              "      <td>0.912598</td>\n",
              "      <td>-0.551758</td>\n",
              "      <td>-1.220703</td>\n",
              "      <td>-1.060547</td>\n",
              "      <td>-0.219116</td>\n",
              "      <td>-1.086914</td>\n",
              "      <td>-0.612305</td>\n",
              "      <td>-0.113953</td>\n",
              "      <td>0.243652</td>\n",
              "    </tr>\n",
              "    <tr>\n",
              "      <th>3</th>\n",
              "      <td>-1.733398</td>\n",
              "      <td>-2.343750</td>\n",
              "      <td>-0.011871</td>\n",
              "      <td>1.875000</td>\n",
              "      <td>-0.606445</td>\n",
              "      <td>-0.586914</td>\n",
              "      <td>-0.815918</td>\n",
              "      <td>0.778320</td>\n",
              "      <td>0.299072</td>\n",
              "      <td>0.114807</td>\n",
              "      <td>...</td>\n",
              "      <td>0.382080</td>\n",
              "      <td>0.912598</td>\n",
              "      <td>-0.266357</td>\n",
              "      <td>-1.220703</td>\n",
              "      <td>0.941406</td>\n",
              "      <td>-0.608887</td>\n",
              "      <td>0.104919</td>\n",
              "      <td>-0.783203</td>\n",
              "      <td>1.151367</td>\n",
              "      <td>-0.773438</td>\n",
              "    </tr>\n",
              "    <tr>\n",
              "      <th>4</th>\n",
              "      <td>-1.732422</td>\n",
              "      <td>0.842285</td>\n",
              "      <td>-0.262939</td>\n",
              "      <td>2.330078</td>\n",
              "      <td>-0.583496</td>\n",
              "      <td>-0.618164</td>\n",
              "      <td>-0.742676</td>\n",
              "      <td>-0.946777</td>\n",
              "      <td>1.230469</td>\n",
              "      <td>0.114807</td>\n",
              "      <td>...</td>\n",
              "      <td>-0.170410</td>\n",
              "      <td>0.912598</td>\n",
              "      <td>-0.741211</td>\n",
              "      <td>-1.220703</td>\n",
              "      <td>0.941406</td>\n",
              "      <td>-0.588379</td>\n",
              "      <td>0.104919</td>\n",
              "      <td>0.753418</td>\n",
              "      <td>1.345703</td>\n",
              "      <td>-0.737793</td>\n",
              "    </tr>\n",
              "    <tr>\n",
              "      <th>...</th>\n",
              "      <td>...</td>\n",
              "      <td>...</td>\n",
              "      <td>...</td>\n",
              "      <td>...</td>\n",
              "      <td>...</td>\n",
              "      <td>...</td>\n",
              "      <td>...</td>\n",
              "      <td>...</td>\n",
              "      <td>...</td>\n",
              "      <td>...</td>\n",
              "      <td>...</td>\n",
              "      <td>...</td>\n",
              "      <td>...</td>\n",
              "      <td>...</td>\n",
              "      <td>...</td>\n",
              "      <td>...</td>\n",
              "      <td>...</td>\n",
              "      <td>...</td>\n",
              "      <td>...</td>\n",
              "      <td>...</td>\n",
              "      <td>...</td>\n",
              "    </tr>\n",
              "    <tr>\n",
              "      <th>3141405</th>\n",
              "      <td>1.737305</td>\n",
              "      <td>0.093506</td>\n",
              "      <td>-0.720215</td>\n",
              "      <td>-0.345459</td>\n",
              "      <td>-0.438721</td>\n",
              "      <td>-0.166992</td>\n",
              "      <td>-0.437256</td>\n",
              "      <td>1.475586</td>\n",
              "      <td>1.284180</td>\n",
              "      <td>0.056427</td>\n",
              "      <td>...</td>\n",
              "      <td>-0.285889</td>\n",
              "      <td>-1.232422</td>\n",
              "      <td>-0.660645</td>\n",
              "      <td>0.875488</td>\n",
              "      <td>0.421631</td>\n",
              "      <td>-0.427979</td>\n",
              "      <td>-0.075562</td>\n",
              "      <td>-0.533203</td>\n",
              "      <td>-0.193726</td>\n",
              "      <td>-0.581543</td>\n",
              "    </tr>\n",
              "    <tr>\n",
              "      <th>3141406</th>\n",
              "      <td>1.737305</td>\n",
              "      <td>-1.344727</td>\n",
              "      <td>-0.199951</td>\n",
              "      <td>-0.107727</td>\n",
              "      <td>-0.454590</td>\n",
              "      <td>-0.221924</td>\n",
              "      <td>-0.141113</td>\n",
              "      <td>-1.498047</td>\n",
              "      <td>1.374023</td>\n",
              "      <td>0.056427</td>\n",
              "      <td>...</td>\n",
              "      <td>0.184570</td>\n",
              "      <td>-1.232422</td>\n",
              "      <td>-0.670410</td>\n",
              "      <td>0.875488</td>\n",
              "      <td>0.421631</td>\n",
              "      <td>-0.729980</td>\n",
              "      <td>-1.514648</td>\n",
              "      <td>0.013145</td>\n",
              "      <td>-0.890137</td>\n",
              "      <td>-0.589844</td>\n",
              "    </tr>\n",
              "    <tr>\n",
              "      <th>3141407</th>\n",
              "      <td>1.739258</td>\n",
              "      <td>0.979492</td>\n",
              "      <td>-1.110352</td>\n",
              "      <td>1.006836</td>\n",
              "      <td>-0.467285</td>\n",
              "      <td>-0.159546</td>\n",
              "      <td>1.355469</td>\n",
              "      <td>0.150757</td>\n",
              "      <td>-0.088928</td>\n",
              "      <td>0.056427</td>\n",
              "      <td>...</td>\n",
              "      <td>-0.756348</td>\n",
              "      <td>-1.232422</td>\n",
              "      <td>0.820801</td>\n",
              "      <td>-1.142578</td>\n",
              "      <td>0.421631</td>\n",
              "      <td>-0.363281</td>\n",
              "      <td>1.363281</td>\n",
              "      <td>-0.079102</td>\n",
              "      <td>-1.580078</td>\n",
              "      <td>-0.297607</td>\n",
              "    </tr>\n",
              "    <tr>\n",
              "      <th>3141408</th>\n",
              "      <td>1.741211</td>\n",
              "      <td>-2.564453</td>\n",
              "      <td>0.320312</td>\n",
              "      <td>0.076599</td>\n",
              "      <td>1.379883</td>\n",
              "      <td>-0.155396</td>\n",
              "      <td>-0.688965</td>\n",
              "      <td>0.381104</td>\n",
              "      <td>-1.325195</td>\n",
              "      <td>0.056427</td>\n",
              "      <td>...</td>\n",
              "      <td>-0.756348</td>\n",
              "      <td>-1.232422</td>\n",
              "      <td>0.133057</td>\n",
              "      <td>-1.142578</td>\n",
              "      <td>0.421631</td>\n",
              "      <td>-0.375244</td>\n",
              "      <td>-1.514648</td>\n",
              "      <td>-0.973633</td>\n",
              "      <td>0.608887</td>\n",
              "      <td>-0.372070</td>\n",
              "    </tr>\n",
              "    <tr>\n",
              "      <th>3141409</th>\n",
              "      <td>1.741211</td>\n",
              "      <td>-0.089539</td>\n",
              "      <td>0.190186</td>\n",
              "      <td>-0.548340</td>\n",
              "      <td>0.151245</td>\n",
              "      <td>0.079773</td>\n",
              "      <td>0.447998</td>\n",
              "      <td>1.014648</td>\n",
              "      <td>-1.325195</td>\n",
              "      <td>0.056427</td>\n",
              "      <td>...</td>\n",
              "      <td>-0.317139</td>\n",
              "      <td>0.811523</td>\n",
              "      <td>3.271484</td>\n",
              "      <td>0.875488</td>\n",
              "      <td>0.421631</td>\n",
              "      <td>-0.170654</td>\n",
              "      <td>1.363281</td>\n",
              "      <td>-0.563477</td>\n",
              "      <td>0.669434</td>\n",
              "      <td>0.456299</td>\n",
              "    </tr>\n",
              "  </tbody>\n",
              "</table>\n",
              "<p>3141410 rows × 301 columns</p>\n",
              "</div>"
            ],
            "text/plain": [
              "         investment_id       f_0       f_1       f_2       f_3       f_4  \\\n",
              "0            -1.738281  0.932617  0.113708 -0.402100  0.378418 -0.203979   \n",
              "1            -1.737305  0.811035 -0.514160  0.742188 -0.616699 -0.194214   \n",
              "2            -1.734375  0.394043  0.615723  0.567871 -0.607910  0.068909   \n",
              "3            -1.733398 -2.343750 -0.011871  1.875000 -0.606445 -0.586914   \n",
              "4            -1.732422  0.842285 -0.262939  2.330078 -0.583496 -0.618164   \n",
              "...                ...       ...       ...       ...       ...       ...   \n",
              "3141405       1.737305  0.093506 -0.720215 -0.345459 -0.438721 -0.166992   \n",
              "3141406       1.737305 -1.344727 -0.199951 -0.107727 -0.454590 -0.221924   \n",
              "3141407       1.739258  0.979492 -1.110352  1.006836 -0.467285 -0.159546   \n",
              "3141408       1.741211 -2.564453  0.320312  0.076599  1.379883 -0.155396   \n",
              "3141409       1.741211 -0.089539  0.190186 -0.548340  0.151245  0.079773   \n",
              "\n",
              "              f_5       f_6       f_7       f_8  ...     f_290     f_291  \\\n",
              "0       -0.413574  0.965820  1.230469  0.114807  ...  0.365967 -1.095703   \n",
              "1        1.771484  1.427734  1.133789  0.114807  ... -0.154175  0.912598   \n",
              "2       -1.083008  0.979492 -1.125977  0.114807  ... -0.138062  0.912598   \n",
              "3       -0.815918  0.778320  0.299072  0.114807  ...  0.382080  0.912598   \n",
              "4       -0.742676 -0.946777  1.230469  0.114807  ... -0.170410  0.912598   \n",
              "...           ...       ...       ...       ...  ...       ...       ...   \n",
              "3141405 -0.437256  1.475586  1.284180  0.056427  ... -0.285889 -1.232422   \n",
              "3141406 -0.141113 -1.498047  1.374023  0.056427  ...  0.184570 -1.232422   \n",
              "3141407  1.355469  0.150757 -0.088928  0.056427  ... -0.756348 -1.232422   \n",
              "3141408 -0.688965  0.381104 -1.325195  0.056427  ... -0.756348 -1.232422   \n",
              "3141409  0.447998  1.014648 -1.325195  0.056427  ... -0.317139  0.811523   \n",
              "\n",
              "            f_292     f_293     f_294     f_295     f_296     f_297     f_298  \\\n",
              "0        0.200073  0.819336  0.941406 -0.086792 -1.086914 -1.044922 -0.287598   \n",
              "1       -0.734375  0.819336  0.941406 -0.387695 -1.086914 -0.929688 -0.974121   \n",
              "2       -0.551758 -1.220703 -1.060547 -0.219116 -1.086914 -0.612305 -0.113953   \n",
              "3       -0.266357 -1.220703  0.941406 -0.608887  0.104919 -0.783203  1.151367   \n",
              "4       -0.741211 -1.220703  0.941406 -0.588379  0.104919  0.753418  1.345703   \n",
              "...           ...       ...       ...       ...       ...       ...       ...   \n",
              "3141405 -0.660645  0.875488  0.421631 -0.427979 -0.075562 -0.533203 -0.193726   \n",
              "3141406 -0.670410  0.875488  0.421631 -0.729980 -1.514648  0.013145 -0.890137   \n",
              "3141407  0.820801 -1.142578  0.421631 -0.363281  1.363281 -0.079102 -1.580078   \n",
              "3141408  0.133057 -1.142578  0.421631 -0.375244 -1.514648 -0.973633  0.608887   \n",
              "3141409  3.271484  0.875488  0.421631 -0.170654  1.363281 -0.563477  0.669434   \n",
              "\n",
              "            f_299  \n",
              "0        0.321533  \n",
              "1       -0.343506  \n",
              "2        0.243652  \n",
              "3       -0.773438  \n",
              "4       -0.737793  \n",
              "...           ...  \n",
              "3141405 -0.581543  \n",
              "3141406 -0.589844  \n",
              "3141407 -0.297607  \n",
              "3141408 -0.372070  \n",
              "3141409  0.456299  \n",
              "\n",
              "[3141410 rows x 301 columns]"
            ]
          },
          "execution_count": 9,
          "metadata": {},
          "output_type": "execute_result"
        }
      ],
      "source": [
        "df=df.astype('float16')\n",
        "df_x = make_dataset(df)\n",
        "df_x"
      ]
    },
    {
      "cell_type": "markdown",
      "id": "dfd6bf9d",
      "metadata": {
        "papermill": {
          "duration": 0.03053,
          "end_time": "2022-02-17T06:50:49.905910",
          "exception": false,
          "start_time": "2022-02-17T06:50:49.875380",
          "status": "completed"
        },
        "tags": [],
        "id": "dfd6bf9d"
      },
      "source": [
        "## Target variable"
      ]
    },
    {
      "cell_type": "code",
      "execution_count": null,
      "id": "927d3428",
      "metadata": {
        "execution": {
          "iopub.execute_input": "2022-02-17T06:50:49.972700Z",
          "iopub.status.busy": "2022-02-17T06:50:49.971851Z",
          "iopub.status.idle": "2022-02-17T06:50:49.980483Z",
          "shell.execute_reply": "2022-02-17T06:50:49.980046Z",
          "shell.execute_reply.started": "2022-02-17T04:20:18.222947Z"
        },
        "papermill": {
          "duration": 0.044144,
          "end_time": "2022-02-17T06:50:49.980591",
          "exception": false,
          "start_time": "2022-02-17T06:50:49.936447",
          "status": "completed"
        },
        "tags": [],
        "id": "927d3428",
        "outputId": "373b70ec-1547-40b6-8512-5d12e1d86b10"
      },
      "outputs": [
        {
          "data": {
            "text/html": [
              "<div>\n",
              "<style scoped>\n",
              "    .dataframe tbody tr th:only-of-type {\n",
              "        vertical-align: middle;\n",
              "    }\n",
              "\n",
              "    .dataframe tbody tr th {\n",
              "        vertical-align: top;\n",
              "    }\n",
              "\n",
              "    .dataframe thead th {\n",
              "        text-align: right;\n",
              "    }\n",
              "</style>\n",
              "<table border=\"1\" class=\"dataframe\">\n",
              "  <thead>\n",
              "    <tr style=\"text-align: right;\">\n",
              "      <th></th>\n",
              "      <th>target</th>\n",
              "    </tr>\n",
              "  </thead>\n",
              "  <tbody>\n",
              "    <tr>\n",
              "      <th>0</th>\n",
              "      <td>-0.300781</td>\n",
              "    </tr>\n",
              "    <tr>\n",
              "      <th>1</th>\n",
              "      <td>-0.231079</td>\n",
              "    </tr>\n",
              "    <tr>\n",
              "      <th>2</th>\n",
              "      <td>0.568848</td>\n",
              "    </tr>\n",
              "    <tr>\n",
              "      <th>3</th>\n",
              "      <td>-1.064453</td>\n",
              "    </tr>\n",
              "    <tr>\n",
              "      <th>4</th>\n",
              "      <td>-0.531738</td>\n",
              "    </tr>\n",
              "    <tr>\n",
              "      <th>...</th>\n",
              "      <td>...</td>\n",
              "    </tr>\n",
              "    <tr>\n",
              "      <th>3141405</th>\n",
              "      <td>0.033600</td>\n",
              "    </tr>\n",
              "    <tr>\n",
              "      <th>3141406</th>\n",
              "      <td>-0.223267</td>\n",
              "    </tr>\n",
              "    <tr>\n",
              "      <th>3141407</th>\n",
              "      <td>-0.559570</td>\n",
              "    </tr>\n",
              "    <tr>\n",
              "      <th>3141408</th>\n",
              "      <td>0.009598</td>\n",
              "    </tr>\n",
              "    <tr>\n",
              "      <th>3141409</th>\n",
              "      <td>1.211914</td>\n",
              "    </tr>\n",
              "  </tbody>\n",
              "</table>\n",
              "<p>3141410 rows × 1 columns</p>\n",
              "</div>"
            ],
            "text/plain": [
              "           target\n",
              "0       -0.300781\n",
              "1       -0.231079\n",
              "2        0.568848\n",
              "3       -1.064453\n",
              "4       -0.531738\n",
              "...           ...\n",
              "3141405  0.033600\n",
              "3141406 -0.223267\n",
              "3141407 -0.559570\n",
              "3141408  0.009598\n",
              "3141409  1.211914\n",
              "\n",
              "[3141410 rows x 1 columns]"
            ]
          },
          "execution_count": 10,
          "metadata": {},
          "output_type": "execute_result"
        }
      ],
      "source": [
        "df_y = pd.DataFrame(df['target'])\n",
        "df_y"
      ]
    },
    {
      "cell_type": "markdown",
      "id": "1d353a9e",
      "metadata": {
        "papermill": {
          "duration": 0.031605,
          "end_time": "2022-02-17T06:50:50.044536",
          "exception": false,
          "start_time": "2022-02-17T06:50:50.012931",
          "status": "completed"
        },
        "tags": [],
        "id": "1d353a9e"
      },
      "source": [
        "## Delete raw data\n",
        "\n",
        "To prevent notebook memory from exlporing, delete raw data."
      ]
    },
    {
      "cell_type": "code",
      "execution_count": null,
      "id": "f0e2cf28",
      "metadata": {
        "execution": {
          "iopub.execute_input": "2022-02-17T06:50:50.166383Z",
          "iopub.status.busy": "2022-02-17T06:50:50.165861Z",
          "iopub.status.idle": "2022-02-17T06:50:50.169529Z",
          "shell.execute_reply": "2022-02-17T06:50:50.169121Z",
          "shell.execute_reply.started": "2022-02-17T04:20:18.242010Z"
        },
        "papermill": {
          "duration": 0.092862,
          "end_time": "2022-02-17T06:50:50.169638",
          "exception": false,
          "start_time": "2022-02-17T06:50:50.076776",
          "status": "completed"
        },
        "tags": [],
        "id": "f0e2cf28"
      },
      "outputs": [],
      "source": [
        "del df"
      ]
    },
    {
      "cell_type": "markdown",
      "id": "e436ef0c",
      "metadata": {
        "papermill": {
          "duration": 0.031222,
          "end_time": "2022-02-17T06:50:50.232263",
          "exception": false,
          "start_time": "2022-02-17T06:50:50.201041",
          "status": "completed"
        },
        "tags": [],
        "id": "e436ef0c"
      },
      "source": [
        "<a id=\"3\"></a>\n",
        "# Model\n",
        "\n",
        "We will use a simple deep neural network.\n",
        "\n",
        "The brief descriptions are as follows:\n",
        "\n",
        "## 1. Use LeakyReLU activation.\n",
        "\n",
        "- You can set a parpameter.\n",
        "\n",
        "## 2. Use BatchNormalization.\n",
        "\n",
        "- It is mainly used before activation function layer.\n",
        "\n",
        "## 3. Use Dropout.\n",
        "\n",
        "- You can change the raito.\n",
        "\n",
        "## 4. Use kernel_initializer with 'he_normal'.\n",
        "\n",
        "- 'he_normal' initializer strategy works well with derivatives of relu.\n",
        "\n",
        "## 5. Use ExponentialDecay scheduling.\n",
        "\n",
        "- It will be great for improving your performance.\n",
        "\n",
        "## 6. Use ModelCheckpoint.\n",
        "\n",
        "- To save your best performance, we will use ModelChechpoint in callbacks parameter.\n"
      ]
    },
    {
      "cell_type": "code",
      "execution_count": null,
      "id": "2a3b878e",
      "metadata": {
        "execution": {
          "iopub.execute_input": "2022-02-17T06:50:50.308642Z",
          "iopub.status.busy": "2022-02-17T06:50:50.302628Z",
          "iopub.status.idle": "2022-02-17T06:50:53.605092Z",
          "shell.execute_reply": "2022-02-17T06:50:53.605911Z",
          "shell.execute_reply.started": "2022-02-17T04:20:18.304327Z"
        },
        "papermill": {
          "duration": 3.3428,
          "end_time": "2022-02-17T06:50:53.606125",
          "exception": false,
          "start_time": "2022-02-17T06:50:50.263325",
          "status": "completed"
        },
        "tags": [],
        "id": "2a3b878e",
        "outputId": "a6ae4d4f-c5d6-4275-ad21-fb7b2f573f5e"
      },
      "outputs": [
        {
          "name": "stdout",
          "output_type": "stream",
          "text": [
            "Model: \"model\"\n",
            "_________________________________________________________________\n",
            "Layer (type)                 Output Shape              Param #   \n",
            "=================================================================\n",
            "input_1 (InputLayer)         [(None, 301)]             0         \n",
            "_________________________________________________________________\n",
            "dense (Dense)                (None, 64)                19328     \n",
            "_________________________________________________________________\n",
            "batch_normalization (BatchNo (None, 64)                256       \n",
            "_________________________________________________________________\n",
            "leaky_re_lu (LeakyReLU)      (None, 64)                0         \n",
            "_________________________________________________________________\n",
            "dense_1 (Dense)              (None, 128)               8320      \n",
            "_________________________________________________________________\n",
            "batch_normalization_1 (Batch (None, 128)               512       \n",
            "_________________________________________________________________\n",
            "leaky_re_lu_1 (LeakyReLU)    (None, 128)               0         \n",
            "_________________________________________________________________\n",
            "dense_2 (Dense)              (None, 256)               33024     \n",
            "_________________________________________________________________\n",
            "batch_normalization_2 (Batch (None, 256)               1024      \n",
            "_________________________________________________________________\n",
            "leaky_re_lu_2 (LeakyReLU)    (None, 256)               0         \n",
            "_________________________________________________________________\n",
            "dense_3 (Dense)              (None, 512)               131584    \n",
            "_________________________________________________________________\n",
            "batch_normalization_3 (Batch (None, 512)               2048      \n",
            "_________________________________________________________________\n",
            "leaky_re_lu_3 (LeakyReLU)    (None, 512)               0         \n",
            "_________________________________________________________________\n",
            "dense_4 (Dense)              (None, 256)               131328    \n",
            "_________________________________________________________________\n",
            "batch_normalization_4 (Batch (None, 256)               1024      \n",
            "_________________________________________________________________\n",
            "leaky_re_lu_4 (LeakyReLU)    (None, 256)               0         \n",
            "_________________________________________________________________\n",
            "dropout (Dropout)            (None, 256)               0         \n",
            "_________________________________________________________________\n",
            "dense_5 (Dense)              (None, 128)               32896     \n",
            "_________________________________________________________________\n",
            "batch_normalization_5 (Batch (None, 128)               512       \n",
            "_________________________________________________________________\n",
            "leaky_re_lu_5 (LeakyReLU)    (None, 128)               0         \n",
            "_________________________________________________________________\n",
            "dense_6 (Dense)              (None, 8)                 1032      \n",
            "_________________________________________________________________\n",
            "batch_normalization_6 (Batch (None, 8)                 32        \n",
            "_________________________________________________________________\n",
            "leaky_re_lu_6 (LeakyReLU)    (None, 8)                 0         \n",
            "_________________________________________________________________\n",
            "dropout_1 (Dropout)          (None, 8)                 0         \n",
            "_________________________________________________________________\n",
            "dense_7 (Dense)              (None, 1)                 9         \n",
            "=================================================================\n",
            "Total params: 362,929\n",
            "Trainable params: 360,225\n",
            "Non-trainable params: 2,704\n",
            "_________________________________________________________________\n"
          ]
        },
        {
          "name": "stderr",
          "output_type": "stream",
          "text": [
            "2022-02-17 06:50:51.293560: I tensorflow/stream_executor/cuda/cuda_gpu_executor.cc:937] successful NUMA node read from SysFS had negative value (-1), but there must be at least one NUMA node, so returning NUMA node zero\n",
            "2022-02-17 06:50:51.379260: I tensorflow/stream_executor/cuda/cuda_gpu_executor.cc:937] successful NUMA node read from SysFS had negative value (-1), but there must be at least one NUMA node, so returning NUMA node zero\n",
            "2022-02-17 06:50:51.380015: I tensorflow/stream_executor/cuda/cuda_gpu_executor.cc:937] successful NUMA node read from SysFS had negative value (-1), but there must be at least one NUMA node, so returning NUMA node zero\n",
            "2022-02-17 06:50:51.381259: I tensorflow/core/platform/cpu_feature_guard.cc:142] This TensorFlow binary is optimized with oneAPI Deep Neural Network Library (oneDNN) to use the following CPU instructions in performance-critical operations:  AVX2 AVX512F FMA\n",
            "To enable them in other operations, rebuild TensorFlow with the appropriate compiler flags.\n",
            "2022-02-17 06:50:51.381661: I tensorflow/stream_executor/cuda/cuda_gpu_executor.cc:937] successful NUMA node read from SysFS had negative value (-1), but there must be at least one NUMA node, so returning NUMA node zero\n",
            "2022-02-17 06:50:51.382366: I tensorflow/stream_executor/cuda/cuda_gpu_executor.cc:937] successful NUMA node read from SysFS had negative value (-1), but there must be at least one NUMA node, so returning NUMA node zero\n",
            "2022-02-17 06:50:51.383016: I tensorflow/stream_executor/cuda/cuda_gpu_executor.cc:937] successful NUMA node read from SysFS had negative value (-1), but there must be at least one NUMA node, so returning NUMA node zero\n",
            "2022-02-17 06:50:53.105154: I tensorflow/stream_executor/cuda/cuda_gpu_executor.cc:937] successful NUMA node read from SysFS had negative value (-1), but there must be at least one NUMA node, so returning NUMA node zero\n",
            "2022-02-17 06:50:53.106075: I tensorflow/stream_executor/cuda/cuda_gpu_executor.cc:937] successful NUMA node read from SysFS had negative value (-1), but there must be at least one NUMA node, so returning NUMA node zero\n",
            "2022-02-17 06:50:53.106838: I tensorflow/stream_executor/cuda/cuda_gpu_executor.cc:937] successful NUMA node read from SysFS had negative value (-1), but there must be at least one NUMA node, so returning NUMA node zero\n",
            "2022-02-17 06:50:53.108454: I tensorflow/core/common_runtime/gpu/gpu_device.cc:1510] Created device /job:localhost/replica:0/task:0/device:GPU:0 with 15403 MB memory:  -> device: 0, name: Tesla P100-PCIE-16GB, pci bus id: 0000:00:04.0, compute capability: 6.0\n"
          ]
        }
      ],
      "source": [
        "def pythonash_model():\n",
        "    inputs_ = tf.keras.Input(shape = [df_x.shape[1]])\n",
        "    x = tf.keras.layers.Dense(64, kernel_initializer = 'he_normal')(inputs_)\n",
        "    batch = tf.keras.layers.BatchNormalization()(x)\n",
        "    leaky = tf.keras.layers.LeakyReLU(0.1)(batch)\n",
        "    \n",
        "    x = tf.keras.layers.Dense(128, kernel_initializer = 'he_normal')(leaky)\n",
        "    batch = tf.keras.layers.BatchNormalization()(x)\n",
        "    leaky = tf.keras.layers.LeakyReLU(0.1)(batch)\n",
        "    \n",
        "    x = tf.keras.layers.Dense(256, kernel_initializer = 'he_normal')(leaky)\n",
        "    batch = tf.keras.layers.BatchNormalization()(x)\n",
        "    leaky = tf.keras.layers.LeakyReLU(0.1)(batch)\n",
        "    \n",
        "    x = tf.keras.layers.Dense(512, kernel_initializer = 'he_normal')(leaky)\n",
        "    batch = tf.keras.layers.BatchNormalization()(x)\n",
        "    leaky = tf.keras.layers.LeakyReLU(0.1)(batch)\n",
        "    \n",
        "    x = tf.keras.layers.Dense(256, kernel_initializer = 'he_normal')(leaky)\n",
        "    batch = tf.keras.layers.BatchNormalization()(x)\n",
        "    leaky = tf.keras.layers.LeakyReLU(0.1)(batch)\n",
        "    drop = tf.keras.layers.Dropout(0.4)(leaky)\n",
        "    \n",
        "    x = tf.keras.layers.Dense(128, kernel_initializer = 'he_normal')(drop)\n",
        "    batch = tf.keras.layers.BatchNormalization()(x)\n",
        "    leaky = tf.keras.layers.LeakyReLU(0.1)(batch)\n",
        "    \n",
        "    x = tf.keras.layers.Dense(8, kernel_initializer = 'he_normal')(leaky)\n",
        "    batch = tf.keras.layers.BatchNormalization()(x)\n",
        "    leaky = tf.keras.layers.LeakyReLU(0.1)(batch)\n",
        "    drop = tf.keras.layers.Dropout(0.4)(leaky)\n",
        "    \n",
        "    outputs_ = tf.keras.layers.Dense(1)(drop)\n",
        "    \n",
        "    model = tf.keras.Model(inputs = inputs_, outputs = outputs_)\n",
        "    \n",
        "    rmse = tf.keras.metrics.RootMeanSquaredError()\n",
        "\n",
        "    learning_sch = tf.keras.optimizers.schedules.ExponentialDecay(\n",
        "    initial_learning_rate = 0.003,\n",
        "    decay_steps = 9700,\n",
        "    decay_rate = 0.98)\n",
        "    adam = tf.keras.optimizers.Adam(learning_rate = learning_sch)\n",
        "    \n",
        "    model.compile(loss = 'mse', metrics = rmse, optimizer = adam)\n",
        "    return model\n",
        "\n",
        "pythonash_model().summary()"
      ]
    },
    {
      "cell_type": "markdown",
      "id": "ad000075",
      "metadata": {
        "papermill": {
          "duration": 0.057857,
          "end_time": "2022-02-17T06:50:53.711223",
          "exception": false,
          "start_time": "2022-02-17T06:50:53.653366",
          "status": "completed"
        },
        "tags": [],
        "id": "ad000075"
      },
      "source": [
        "## Model graphic"
      ]
    },
    {
      "cell_type": "code",
      "execution_count": null,
      "id": "4ed15a71",
      "metadata": {
        "execution": {
          "iopub.execute_input": "2022-02-17T06:50:53.833443Z",
          "iopub.status.busy": "2022-02-17T06:50:53.832521Z",
          "iopub.status.idle": "2022-02-17T06:50:55.251000Z",
          "shell.execute_reply": "2022-02-17T06:50:55.251406Z",
          "shell.execute_reply.started": "2022-02-17T04:20:20.318635Z"
        },
        "papermill": {
          "duration": 1.480057,
          "end_time": "2022-02-17T06:50:55.251546",
          "exception": false,
          "start_time": "2022-02-17T06:50:53.771489",
          "status": "completed"
        },
        "tags": [],
        "id": "4ed15a71",
        "outputId": "53e519ce-9ed9-4433-933e-95c319ee42e1"
      },
      "outputs": [
        {
          "data": {
            "image/png": "[encoded data removed]",
            "text/plain": [
              "<IPython.core.display.Image object>"
            ]
          },
          "execution_count": 13,
          "metadata": {},
          "output_type": "execute_result"
        }
      ],
      "source": [
        "tf.keras.utils.plot_model(pythonash_model(),show_shapes=True,expand_nested=True)"
      ]
    },
    {
      "cell_type": "markdown",
      "id": "6bff9c23",
      "metadata": {
        "papermill": {
          "duration": 0.037565,
          "end_time": "2022-02-17T06:50:55.327824",
          "exception": false,
          "start_time": "2022-02-17T06:50:55.290259",
          "status": "completed"
        },
        "tags": [],
        "id": "6bff9c23"
      },
      "source": [
        "<a id=\"3.1\"></a>\n",
        "# KFold strategy\n",
        "\n",
        "KFold strategy is good at evaluating robust.\n",
        "\n",
        "Furthermore, using kfold is of use for training procedure and overfitting, because we have plenty of dataset."
      ]
    },
    {
      "cell_type": "code",
      "execution_count": null,
      "id": "0e240ce3",
      "metadata": {
        "execution": {
          "iopub.execute_input": "2022-02-17T06:50:55.409200Z",
          "iopub.status.busy": "2022-02-17T06:50:55.408517Z",
          "iopub.status.idle": "2022-02-17T06:50:55.411093Z",
          "shell.execute_reply": "2022-02-17T06:50:55.411488Z",
          "shell.execute_reply.started": "2022-02-17T04:20:21.283736Z"
        },
        "papermill": {
          "duration": 0.046542,
          "end_time": "2022-02-17T06:50:55.411610",
          "exception": false,
          "start_time": "2022-02-17T06:50:55.365068",
          "status": "completed"
        },
        "tags": [],
        "id": "0e240ce3",
        "outputId": "42fbaf4b-8a5e-45ee-9b7d-8758abc82d7d"
      },
      "outputs": [
        {
          "data": {
            "text/plain": [
              "KFold(n_splits=5, random_state=2022, shuffle=True)"
            ]
          },
          "execution_count": 14,
          "metadata": {},
          "output_type": "execute_result"
        }
      ],
      "source": [
        "kfold_generator = KFold(n_splits =5, shuffle=True, random_state = 2022)\n",
        "kfold_generator"
      ]
    },
    {
      "cell_type": "markdown",
      "id": "b6419d8f",
      "metadata": {
        "papermill": {
          "duration": 0.037556,
          "end_time": "2022-02-17T06:50:55.486676",
          "exception": false,
          "start_time": "2022-02-17T06:50:55.449120",
          "status": "completed"
        },
        "tags": [],
        "id": "b6419d8f"
      },
      "source": [
        "## Model fitting\n",
        "\n",
        "We can use KFold strategy by using \"for\" structure."
      ]
    },
    {
      "cell_type": "code",
      "execution_count": null,
      "id": "78613e06",
      "metadata": {
        "execution": {
          "iopub.execute_input": "2022-02-17T06:50:55.573489Z",
          "iopub.status.busy": "2022-02-17T06:50:55.572328Z",
          "iopub.status.idle": "2022-02-17T07:00:24.075847Z",
          "shell.execute_reply": "2022-02-17T07:00:24.075362Z"
        },
        "papermill": {
          "duration": 568.551778,
          "end_time": "2022-02-17T07:00:24.075990",
          "exception": false,
          "start_time": "2022-02-17T06:50:55.524212",
          "status": "completed"
        },
        "tags": [],
        "id": "78613e06",
        "outputId": "c774ceb5-40df-4f57-dabd-cef82d07af80"
      },
      "outputs": [
        {
          "name": "stderr",
          "output_type": "stream",
          "text": [
            "2022-02-17 06:51:06.216617: W tensorflow/core/framework/cpu_allocator_impl.cc:80] Allocation of 1512903056 exceeds 10% of free system memory.\n",
            "2022-02-17 06:51:07.770172: W tensorflow/core/framework/cpu_allocator_impl.cc:80] Allocation of 1512903056 exceeds 10% of free system memory.\n",
            "2022-02-17 06:51:09.174804: W tensorflow/core/framework/cpu_allocator_impl.cc:80] Allocation of 378225764 exceeds 10% of free system memory.\n",
            "2022-02-17 06:51:09.540961: W tensorflow/core/framework/cpu_allocator_impl.cc:80] Allocation of 378225764 exceeds 10% of free system memory.\n",
            "2022-02-17 06:51:09.967924: W tensorflow/core/framework/cpu_allocator_impl.cc:80] Allocation of 1512903056 exceeds 10% of free system memory.\n"
          ]
        },
        {
          "name": "stdout",
          "output_type": "stream",
          "text": [
            "Epoch 1/5\n"
          ]
        },
        {
          "name": "stderr",
          "output_type": "stream",
          "text": [
            "2022-02-17 06:51:13.239234: I tensorflow/compiler/mlir/mlir_graph_optimization_pass.cc:185] None of the MLIR Optimization Passes are enabled (registered 2)\n"
          ]
        },
        {
          "name": "stdout",
          "output_type": "stream",
          "text": [
            "2454/2454 [==============================] - 20s 7ms/step - loss: 0.8409 - root_mean_squared_error: 0.9170 - val_loss: 0.8423 - val_root_mean_squared_error: 0.9178\n",
            "Epoch 2/5\n",
            "2454/2454 [==============================] - 18s 7ms/step - loss: 0.8312 - root_mean_squared_error: 0.9117 - val_loss: 0.8423 - val_root_mean_squared_error: 0.9178\n",
            "Epoch 3/5\n",
            "2454/2454 [==============================] - 17s 7ms/step - loss: 0.8298 - root_mean_squared_error: 0.9109 - val_loss: 0.8408 - val_root_mean_squared_error: 0.9170\n",
            "Epoch 4/5\n",
            "2454/2454 [==============================] - 17s 7ms/step - loss: 0.8286 - root_mean_squared_error: 0.9103 - val_loss: 0.8404 - val_root_mean_squared_error: 0.9167\n",
            "Epoch 5/5\n",
            "2454/2454 [==============================] - 17s 7ms/step - loss: 0.8279 - root_mean_squared_error: 0.9099 - val_loss: 0.8392 - val_root_mean_squared_error: 0.9161\n",
            "Epoch 1/5\n",
            "2454/2454 [==============================] - 19s 7ms/step - loss: 0.8458 - root_mean_squared_error: 0.9197 - val_loss: 0.8373 - val_root_mean_squared_error: 0.9151\n",
            "Epoch 2/5\n",
            "2454/2454 [==============================] - 17s 7ms/step - loss: 0.8327 - root_mean_squared_error: 0.9125 - val_loss: 0.8361 - val_root_mean_squared_error: 0.9144\n",
            "Epoch 3/5\n",
            "2454/2454 [==============================] - 17s 7ms/step - loss: 0.8316 - root_mean_squared_error: 0.9119 - val_loss: 0.8370 - val_root_mean_squared_error: 0.9149\n",
            "Epoch 4/5\n",
            "2454/2454 [==============================] - 18s 7ms/step - loss: 0.8305 - root_mean_squared_error: 0.9113 - val_loss: 0.8363 - val_root_mean_squared_error: 0.9145\n",
            "Epoch 5/5\n",
            "2454/2454 [==============================] - 17s 7ms/step - loss: 0.8294 - root_mean_squared_error: 0.9107 - val_loss: 0.8349 - val_root_mean_squared_error: 0.9137\n",
            "Epoch 1/5\n",
            "2454/2454 [==============================] - 19s 7ms/step - loss: 0.8433 - root_mean_squared_error: 0.9183 - val_loss: 0.8346 - val_root_mean_squared_error: 0.9136\n",
            "Epoch 2/5\n",
            "2454/2454 [==============================] - 18s 7ms/step - loss: 0.8337 - root_mean_squared_error: 0.9130 - val_loss: 0.8346 - val_root_mean_squared_error: 0.9135\n",
            "Epoch 3/5\n",
            "2454/2454 [==============================] - 17s 7ms/step - loss: 0.8323 - root_mean_squared_error: 0.9123 - val_loss: 0.8327 - val_root_mean_squared_error: 0.9125\n",
            "Epoch 4/5\n",
            "2454/2454 [==============================] - 17s 7ms/step - loss: 0.8312 - root_mean_squared_error: 0.9117 - val_loss: 0.8330 - val_root_mean_squared_error: 0.9127\n",
            "Epoch 5/5\n",
            "2454/2454 [==============================] - 17s 7ms/step - loss: 0.8303 - root_mean_squared_error: 0.9112 - val_loss: 0.8324 - val_root_mean_squared_error: 0.9124\n",
            "Epoch 1/5\n",
            "2454/2454 [==============================] - 19s 7ms/step - loss: 0.8409 - root_mean_squared_error: 0.9170 - val_loss: 0.8395 - val_root_mean_squared_error: 0.9162\n",
            "Epoch 2/5\n",
            "2454/2454 [==============================] - 18s 7ms/step - loss: 0.8325 - root_mean_squared_error: 0.9124 - val_loss: 0.8378 - val_root_mean_squared_error: 0.9153\n",
            "Epoch 3/5\n",
            "2454/2454 [==============================] - 17s 7ms/step - loss: 0.8313 - root_mean_squared_error: 0.9117 - val_loss: 0.8404 - val_root_mean_squared_error: 0.9167\n",
            "Epoch 4/5\n",
            "2454/2454 [==============================] - 19s 8ms/step - loss: 0.8304 - root_mean_squared_error: 0.9113 - val_loss: 0.8380 - val_root_mean_squared_error: 0.9154\n",
            "Epoch 5/5\n",
            "2454/2454 [==============================] - 17s 7ms/step - loss: 0.8294 - root_mean_squared_error: 0.9107 - val_loss: 0.8370 - val_root_mean_squared_error: 0.9149\n",
            "Epoch 1/5\n",
            "2454/2454 [==============================] - 19s 7ms/step - loss: 0.8419 - root_mean_squared_error: 0.9176 - val_loss: 0.8424 - val_root_mean_squared_error: 0.9178\n",
            "Epoch 2/5\n",
            "2454/2454 [==============================] - 19s 8ms/step - loss: 0.8322 - root_mean_squared_error: 0.9123 - val_loss: 0.8401 - val_root_mean_squared_error: 0.9166\n",
            "Epoch 3/5\n",
            "2454/2454 [==============================] - 17s 7ms/step - loss: 0.8308 - root_mean_squared_error: 0.9115 - val_loss: 0.8395 - val_root_mean_squared_error: 0.9162\n",
            "Epoch 4/5\n",
            "2454/2454 [==============================] - 18s 7ms/step - loss: 0.8298 - root_mean_squared_error: 0.9109 - val_loss: 0.8386 - val_root_mean_squared_error: 0.9158\n",
            "Epoch 5/5\n",
            "2454/2454 [==============================] - 17s 7ms/step - loss: 0.8288 - root_mean_squared_error: 0.9104 - val_loss: 0.8374 - val_root_mean_squared_error: 0.9151\n"
          ]
        }
      ],
      "source": [
        "# Write your model name down in 'pythonash_model.h5'.\n",
        "callbacks = tf.keras.callbacks.ModelCheckpoint('pythonash_model.h5', save_best_only = True)\n",
        "for train_index, val_index in kfold_generator.split(df_x, df_y):\n",
        "    # Split training dataset.\n",
        "    train_x, train_y = df_x.iloc[train_index], df_y.iloc[train_index]\n",
        "    # Split validation dataset.\n",
        "    val_x, val_y = df_x.iloc[val_index], df_y.iloc[val_index]\n",
        "    # Make tensor dataset.\n",
        "    tf_train = tf.data.Dataset.from_tensor_slices((train_x, train_y)).shuffle(2022).batch(1024, drop_remainder=True).prefetch(1)\n",
        "    tf_val = tf.data.Dataset.from_tensor_slices((val_x, val_y)).shuffle(2022).batch(1024, drop_remainder=True).prefetch(1)\n",
        "    # Load model\n",
        "    model = pythonash_model()\n",
        "    # Model fitting\n",
        "    \n",
        "    ## I used 5 epochs for fast save.\n",
        "    ## Change the epochs into more numbers.\n",
        "    model.fit(tf_train, callbacks = callbacks, epochs = 5, #### change the epochs into more numbers.\n",
        "             validation_data = (tf_val), shuffle=True)\n",
        "    # Delete tensor dataset and model for avoiding memory exploring.\n",
        "    del tf_train\n",
        "    del tf_val\n",
        "    del model"
      ]
    },
    {
      "cell_type": "markdown",
      "id": "8a8aaff1",
      "metadata": {
        "papermill": {
          "duration": 2.207751,
          "end_time": "2022-02-17T07:00:28.767551",
          "exception": false,
          "start_time": "2022-02-17T07:00:26.559800",
          "status": "completed"
        },
        "tags": [],
        "id": "8a8aaff1"
      },
      "source": [
        "<a id=\"4\"></a>\n",
        "# Submit\n",
        "\n",
        "To submit your result, follow the code given by [competetion overview evaluation](https://www.kaggle.com/c/ubiquant-market-prediction/overview/evaluation).\n",
        "\n",
        "If you don't know how it works, just run the code as below:\n",
        "\n",
        "\n"
      ]
    },
    {
      "cell_type": "code",
      "execution_count": null,
      "id": "09cd39e0",
      "metadata": {
        "execution": {
          "iopub.execute_input": "2022-02-17T07:00:33.111159Z",
          "iopub.status.busy": "2022-02-17T07:00:33.105937Z",
          "iopub.status.idle": "2022-02-17T07:00:33.793295Z",
          "shell.execute_reply": "2022-02-17T07:00:33.792749Z"
        },
        "papermill": {
          "duration": 2.859981,
          "end_time": "2022-02-17T07:00:33.793431",
          "exception": false,
          "start_time": "2022-02-17T07:00:30.933450",
          "status": "completed"
        },
        "tags": [],
        "id": "09cd39e0",
        "outputId": "24e73c1d-c6e5-472f-c3e2-fbfea3c6ccc3"
      },
      "outputs": [
        {
          "name": "stdout",
          "output_type": "stream",
          "text": [
            "This version of the API is not optimized and should not be used to estimate the runtime of your code on the hidden test set.\n"
          ]
        }
      ],
      "source": [
        "best_model = tf.keras.models.load_model('pythonash_model.h5')\n",
        "env = ubiquant.make_env()   \n",
        "iter_test = env.iter_test()    \n",
        "for (test_df, sample_prediction_df) in iter_test:\n",
        "    test_df = make_dataset(test_df)\n",
        "    sample_prediction_df['target'] = best_model.predict(test_df)  \n",
        "    env.predict(sample_prediction_df)"
      ]
    },
    {
      "cell_type": "markdown",
      "id": "c194fa17",
      "metadata": {
        "papermill": {
          "duration": 2.500195,
          "end_time": "2022-02-17T07:00:38.516719",
          "exception": false,
          "start_time": "2022-02-17T07:00:36.016524",
          "status": "completed"
        },
        "tags": [],
        "id": "c194fa17"
      },
      "source": [
        "<a id=\"5\"></a>\n",
        "# Review\n",
        "\n",
        "I want to share my experiences that I have tried to improve the performance.\n",
        "\n",
        "## 1. It might not be perfect to use more neurons.\n",
        "\n",
        "> I recommend you to stack more layers rather than using more neurons.\n",
        "\n",
        "## 2. Change the learning rate or LeakyReLU parameter.\n",
        "\n",
        "- When LeakyReLU was used with 0.4 and initial learning rate was 0.001, I achieved the score, 0.146.\n",
        "\n",
        "- LeakyReLU would be great rather than 'relu' or 'elu' in my notebook.\n",
        "\n",
        "- When LeakyReLU was used with 0.1 and initial learning rate was 0.001, I achieved the score, 0.147.\n",
        "\n",
        "## 3. To use both ModelCheckpoint and EarlyStopping at the same time makes the memory explore.\n",
        "\n",
        "\n",
        "## **It has done!!**\n",
        "\n",
        "If this notebook is helpful to you, give me **upvotes!!**\n",
        "\n",
        "Thank you for viewing."
      ]
    }
  ],
  "metadata": {
    "kernelspec": {
      "display_name": "Python 3",
      "language": "python",
      "name": "python3"
    },
    "language_info": {
      "codemirror_mode": {
        "name": "ipython",
        "version": 3
      },
      "file_extension": ".py",
      "mimetype": "text/x-python",
      "name": "python",
      "nbconvert_exporter": "python",
      "pygments_lexer": "ipython3",
      "version": "3.7.12"
    },
    "papermill": {
      "default_parameters": {},
      "duration": 667.206993,
      "end_time": "2022-02-17T07:00:43.694958",
      "environment_variables": {},
      "exception": null,
      "input_path": "__notebook__.ipynb",
      "output_path": "__notebook__.ipynb",
      "parameters": {},
      "start_time": "2022-02-17T06:49:36.487965",
      "version": "2.3.3"
    },
    "colab": {
      "name": "end-to-end-simple-and-powerful-dnn-with-leakyrelu.ipynb",
      "provenance": [],
      "include_colab_link": true
    }
  },
  "nbformat": 4,
  "nbformat_minor": 5
}